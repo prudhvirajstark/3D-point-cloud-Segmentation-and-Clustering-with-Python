{
  "nbformat": 4,
  "nbformat_minor": 0,
  "metadata": {
    "colab": {
      "name": "3D point cloud Segmentation and Clustering with Python.ipynb",
      "provenance": [],
      "collapsed_sections": [],
      "authorship_tag": "ABX9TyO1iIBmwMEWIqHW5KyG4Svv",
      "include_colab_link": true
    },
    "kernelspec": {
      "name": "python3",
      "display_name": "Python 3"
    },
    "language_info": {
      "name": "python"
    }
  },
  "cells": [
    {
      "cell_type": "markdown",
      "metadata": {
        "id": "view-in-github",
        "colab_type": "text"
      },
      "source": [
        "<a href=\"https://colab.research.google.com/github/prudhvirajstark/3D-point-cloud-Segmentation-and-Clustering-with-Python/blob/main/3D_point_cloud_Segmentation_and_Clustering_with_Python.ipynb\" target=\"_parent\"><img src=\"https://colab.research.google.com/assets/colab-badge.svg\" alt=\"Open In Colab\"/></a>"
      ]
    },
    {
      "cell_type": "code",
      "metadata": {
        "colab": {
          "base_uri": "https://localhost:8080/"
        },
        "id": "9yIw_eTTmDjq",
        "outputId": "8737b5b4-7740-472d-dc11-39a876af2861"
      },
      "source": [
        "from google.colab import drive\n",
        "drive.mount('/content/gdrive')"
      ],
      "execution_count": 1,
      "outputs": [
        {
          "output_type": "stream",
          "text": [
            "Mounted at /content/gdrive\n"
          ],
          "name": "stdout"
        }
      ]
    },
    {
      "cell_type": "code",
      "metadata": {
        "colab": {
          "base_uri": "https://localhost:8080/"
        },
        "id": "FnW1Y3idm287",
        "outputId": "6a824a50-da06-463a-886f-fd86f41c1d6d"
      },
      "source": [
        "!pip install open3d\n",
        "\n",
        "import numpy as np\n",
        "import open3d as o3d\n",
        "import matplotlib.pyplot as plt\n"
      ],
      "execution_count": 2,
      "outputs": [
        {
          "output_type": "stream",
          "text": [
            "Collecting open3d\n",
            "\u001b[?25l  Downloading https://files.pythonhosted.org/packages/4e/9c/dd30378d9334396894a02c296d74b265fba0ff85838ceef12385cd4ebff9/open3d-0.12.0-cp37-cp37m-manylinux2014_x86_64.whl (188.4MB)\n",
            "\u001b[K     |████████████████████████████████| 188.4MB 85kB/s \n",
            "\u001b[?25hCollecting plyfile\n",
            "  Downloading https://files.pythonhosted.org/packages/d8/28/a4f08d62adb37c010cf58d04bcff37faa87212ed7acf446eeee9cf75624c/plyfile-0.7.4-py3-none-any.whl\n",
            "Requirement already satisfied: pyyaml in /usr/local/lib/python3.7/dist-packages (from open3d) (3.13)\n",
            "Requirement already satisfied: pandas in /usr/local/lib/python3.7/dist-packages (from open3d) (1.1.5)\n",
            "Requirement already satisfied: notebook in /usr/local/lib/python3.7/dist-packages (from open3d) (5.3.1)\n",
            "Requirement already satisfied: sklearn in /usr/local/lib/python3.7/dist-packages (from open3d) (0.0)\n",
            "Requirement already satisfied: numpy in /usr/local/lib/python3.7/dist-packages (from open3d) (1.19.5)\n",
            "Requirement already satisfied: ipywidgets in /usr/local/lib/python3.7/dist-packages (from open3d) (7.6.3)\n",
            "Collecting addict\n",
            "  Downloading https://files.pythonhosted.org/packages/6a/00/b08f23b7d7e1e14ce01419a467b583edbb93c6cdb8654e54a9cc579cd61f/addict-2.4.0-py3-none-any.whl\n",
            "Requirement already satisfied: tqdm in /usr/local/lib/python3.7/dist-packages (from open3d) (4.41.1)\n",
            "Requirement already satisfied: widgetsnbextension in /usr/local/lib/python3.7/dist-packages (from open3d) (3.5.1)\n",
            "Requirement already satisfied: matplotlib in /usr/local/lib/python3.7/dist-packages (from open3d) (3.2.2)\n",
            "Requirement already satisfied: python-dateutil>=2.7.3 in /usr/local/lib/python3.7/dist-packages (from pandas->open3d) (2.8.1)\n",
            "Requirement already satisfied: pytz>=2017.2 in /usr/local/lib/python3.7/dist-packages (from pandas->open3d) (2018.9)\n",
            "Requirement already satisfied: jupyter-core>=4.4.0 in /usr/local/lib/python3.7/dist-packages (from notebook->open3d) (4.7.1)\n",
            "Requirement already satisfied: jinja2 in /usr/local/lib/python3.7/dist-packages (from notebook->open3d) (2.11.3)\n",
            "Requirement already satisfied: traitlets>=4.2.1 in /usr/local/lib/python3.7/dist-packages (from notebook->open3d) (5.0.5)\n",
            "Requirement already satisfied: tornado>=4 in /usr/local/lib/python3.7/dist-packages (from notebook->open3d) (5.1.1)\n",
            "Requirement already satisfied: nbconvert in /usr/local/lib/python3.7/dist-packages (from notebook->open3d) (5.6.1)\n",
            "Requirement already satisfied: jupyter-client>=5.2.0 in /usr/local/lib/python3.7/dist-packages (from notebook->open3d) (5.3.5)\n",
            "Requirement already satisfied: Send2Trash in /usr/local/lib/python3.7/dist-packages (from notebook->open3d) (1.5.0)\n",
            "Requirement already satisfied: terminado>=0.8.1 in /usr/local/lib/python3.7/dist-packages (from notebook->open3d) (0.9.5)\n",
            "Requirement already satisfied: ipython-genutils in /usr/local/lib/python3.7/dist-packages (from notebook->open3d) (0.2.0)\n",
            "Requirement already satisfied: nbformat in /usr/local/lib/python3.7/dist-packages (from notebook->open3d) (5.1.3)\n",
            "Requirement already satisfied: ipykernel in /usr/local/lib/python3.7/dist-packages (from notebook->open3d) (4.10.1)\n",
            "Requirement already satisfied: scikit-learn in /usr/local/lib/python3.7/dist-packages (from sklearn->open3d) (0.22.2.post1)\n",
            "Requirement already satisfied: jupyterlab-widgets>=1.0.0; python_version >= \"3.6\" in /usr/local/lib/python3.7/dist-packages (from ipywidgets->open3d) (1.0.0)\n",
            "Requirement already satisfied: ipython>=4.0.0; python_version >= \"3.3\" in /usr/local/lib/python3.7/dist-packages (from ipywidgets->open3d) (5.5.0)\n",
            "Requirement already satisfied: cycler>=0.10 in /usr/local/lib/python3.7/dist-packages (from matplotlib->open3d) (0.10.0)\n",
            "Requirement already satisfied: pyparsing!=2.0.4,!=2.1.2,!=2.1.6,>=2.0.1 in /usr/local/lib/python3.7/dist-packages (from matplotlib->open3d) (2.4.7)\n",
            "Requirement already satisfied: kiwisolver>=1.0.1 in /usr/local/lib/python3.7/dist-packages (from matplotlib->open3d) (1.3.1)\n",
            "Requirement already satisfied: six>=1.5 in /usr/local/lib/python3.7/dist-packages (from python-dateutil>=2.7.3->pandas->open3d) (1.15.0)\n",
            "Requirement already satisfied: MarkupSafe>=0.23 in /usr/local/lib/python3.7/dist-packages (from jinja2->notebook->open3d) (2.0.0)\n",
            "Requirement already satisfied: mistune<2,>=0.8.1 in /usr/local/lib/python3.7/dist-packages (from nbconvert->notebook->open3d) (0.8.4)\n",
            "Requirement already satisfied: defusedxml in /usr/local/lib/python3.7/dist-packages (from nbconvert->notebook->open3d) (0.7.1)\n",
            "Requirement already satisfied: pandocfilters>=1.4.1 in /usr/local/lib/python3.7/dist-packages (from nbconvert->notebook->open3d) (1.4.3)\n",
            "Requirement already satisfied: testpath in /usr/local/lib/python3.7/dist-packages (from nbconvert->notebook->open3d) (0.4.4)\n",
            "Requirement already satisfied: entrypoints>=0.2.2 in /usr/local/lib/python3.7/dist-packages (from nbconvert->notebook->open3d) (0.3)\n",
            "Requirement already satisfied: pygments in /usr/local/lib/python3.7/dist-packages (from nbconvert->notebook->open3d) (2.6.1)\n",
            "Requirement already satisfied: bleach in /usr/local/lib/python3.7/dist-packages (from nbconvert->notebook->open3d) (3.3.0)\n",
            "Requirement already satisfied: pyzmq>=13 in /usr/local/lib/python3.7/dist-packages (from jupyter-client>=5.2.0->notebook->open3d) (22.0.3)\n",
            "Requirement already satisfied: ptyprocess; os_name != \"nt\" in /usr/local/lib/python3.7/dist-packages (from terminado>=0.8.1->notebook->open3d) (0.7.0)\n",
            "Requirement already satisfied: jsonschema!=2.5.0,>=2.4 in /usr/local/lib/python3.7/dist-packages (from nbformat->notebook->open3d) (2.6.0)\n",
            "Requirement already satisfied: scipy>=0.17.0 in /usr/local/lib/python3.7/dist-packages (from scikit-learn->sklearn->open3d) (1.4.1)\n",
            "Requirement already satisfied: joblib>=0.11 in /usr/local/lib/python3.7/dist-packages (from scikit-learn->sklearn->open3d) (1.0.1)\n",
            "Requirement already satisfied: simplegeneric>0.8 in /usr/local/lib/python3.7/dist-packages (from ipython>=4.0.0; python_version >= \"3.3\"->ipywidgets->open3d) (0.8.1)\n",
            "Requirement already satisfied: setuptools>=18.5 in /usr/local/lib/python3.7/dist-packages (from ipython>=4.0.0; python_version >= \"3.3\"->ipywidgets->open3d) (56.1.0)\n",
            "Requirement already satisfied: pexpect; sys_platform != \"win32\" in /usr/local/lib/python3.7/dist-packages (from ipython>=4.0.0; python_version >= \"3.3\"->ipywidgets->open3d) (4.8.0)\n",
            "Requirement already satisfied: prompt-toolkit<2.0.0,>=1.0.4 in /usr/local/lib/python3.7/dist-packages (from ipython>=4.0.0; python_version >= \"3.3\"->ipywidgets->open3d) (1.0.18)\n",
            "Requirement already satisfied: decorator in /usr/local/lib/python3.7/dist-packages (from ipython>=4.0.0; python_version >= \"3.3\"->ipywidgets->open3d) (4.4.2)\n",
            "Requirement already satisfied: pickleshare in /usr/local/lib/python3.7/dist-packages (from ipython>=4.0.0; python_version >= \"3.3\"->ipywidgets->open3d) (0.7.5)\n",
            "Requirement already satisfied: packaging in /usr/local/lib/python3.7/dist-packages (from bleach->nbconvert->notebook->open3d) (20.9)\n",
            "Requirement already satisfied: webencodings in /usr/local/lib/python3.7/dist-packages (from bleach->nbconvert->notebook->open3d) (0.5.1)\n",
            "Requirement already satisfied: wcwidth in /usr/local/lib/python3.7/dist-packages (from prompt-toolkit<2.0.0,>=1.0.4->ipython>=4.0.0; python_version >= \"3.3\"->ipywidgets->open3d) (0.2.5)\n",
            "Installing collected packages: plyfile, addict, open3d\n",
            "Successfully installed addict-2.4.0 open3d-0.12.0 plyfile-0.7.4\n"
          ],
          "name": "stdout"
        }
      ]
    },
    {
      "cell_type": "code",
      "metadata": {
        "id": "Q00rXR3Wn2-W"
      },
      "source": [
        "#create paths and load data\n",
        "input_path = \"gdrive/My Drive/Datasets/\"\n",
        "dataname = \"TLS_kitchen.ply\"\n",
        "\n",
        "pcd = o3d.io.read_point_cloud(input_path + dataname)\n",
        "print(pcd)"
      ],
      "execution_count": 3,
      "outputs": []
    },
    {
      "cell_type": "code",
      "metadata": {
        "colab": {
          "base_uri": "https://localhost:8080/"
        },
        "id": "oFlJVy_uovcs",
        "outputId": "dd95ad98-e739-4447-d63d-1deba87473d4"
      },
      "source": [
        "#FIRST Segmentation Round\n",
        "#Normals Computation\n",
        "pcd.estimate_normals(search_param=o3d.geometry.KDTreeSearchParamHybrid(radius=0.1, max_nn=16), fast_normal_computation=True)\n",
        "pcd.paint_uniform_color([0.6,0.6,0.6])\n",
        "#o3d.visualization.draw_geometries([pcd])"
      ],
      "execution_count": 10,
      "outputs": [
        {
          "output_type": "execute_result",
          "data": {
            "text/plain": [
              "PointCloud with 511026 points."
            ]
          },
          "metadata": {
            "tags": []
          },
          "execution_count": 10
        }
      ]
    },
    {
      "cell_type": "code",
      "metadata": {
        "colab": {
          "base_uri": "https://localhost:8080/"
        },
        "id": "argzr0DbsA3F",
        "outputId": "123739d7-48a7-479c-9a27-de1d2e554cb1"
      },
      "source": [
        "#3D Shape Detection with RANSAC\n",
        "plane_model, inliers = pcd.segment_plane(distance_threshold=0.01,ransac_n=3,num_iterations=1000)\n",
        "[a, b, c, d] = plane_model\n",
        "print(f\"Plane equation: {a:.2f}x + {b:.2f}y + {c:.2f}z + {d:.2f} = 0\")\n",
        "inlier_cloud = pcd.select_by_index(inliers)\n",
        "outlier_cloud = pcd.select_by_index(inliers, invert=True)\n",
        "inlier_cloud.paint_uniform_color([1.0, 0, 0])\n",
        "outlier_cloud.paint_uniform_color([0.6, 0.6, 0.6])\n",
        "# o3d.visualization.draw_geometries([inlier_cloud, outlier_cloud])"
      ],
      "execution_count": 11,
      "outputs": [
        {
          "output_type": "stream",
          "text": [
            "Plane equation: 0.00x + 0.00y + 1.00z + -0.96 = 0\n"
          ],
          "name": "stdout"
        },
        {
          "output_type": "execute_result",
          "data": {
            "text/plain": [
              "PointCloud with 380013 points."
            ]
          },
          "metadata": {
            "tags": []
          },
          "execution_count": 11
        }
      ]
    },
    {
      "cell_type": "code",
      "metadata": {
        "id": "IJ1soC6MbAEL",
        "colab": {
          "base_uri": "https://localhost:8080/"
        },
        "outputId": "2b8a4641-9d1e-4e53-df58-c31932f47fc3"
      },
      "source": [
        "# Clustering with DBSCAN\n",
        "labels = np.array(pcd.cluster_dbscan(eps=0.05, min_points=10))\n",
        "max_label = labels.max()\n",
        "print(f\"point cloud has {max_label + 1} clusters\")\n",
        "\n",
        "colors = plt.get_cmap(\"tab20\")(labels / (max_label if max_label > 0 else 1))\n",
        "colors[labels < 0] = 0\n",
        "pcd.colors = o3d.utility.Vector3dVector(colors[:, :3])\n",
        "\n",
        "# o3d.visualization.draw_geometries([pcd])"
      ],
      "execution_count": 12,
      "outputs": [
        {
          "output_type": "stream",
          "text": [
            "point cloud has 13 clusters\n"
          ],
          "name": "stdout"
        }
      ]
    },
    {
      "cell_type": "code",
      "metadata": {
        "colab": {
          "base_uri": "https://localhost:8080/"
        },
        "id": "Ke27uPWSs6Ud",
        "outputId": "dce7f699-7086-4e92-c1b9-500b1fb513f4"
      },
      "source": [
        "#RANSAC loop for Multiple planae sharpes detection\n",
        "\n",
        "segment_models={}\n",
        "segments={}\n",
        "max_plane_idx=10\n",
        "rest=pcd\n",
        "for i in range(max_plane_idx):\n",
        "    colors = plt.get_cmap(\"tab20\")(i)\n",
        "    segment_models[i], inliers = rest.segment_plane(distance_threshold=0.01,ransac_n=3,num_iterations=1000)\n",
        "    segments[i]=rest.select_by_index(inliers)\n",
        "    segments[i].paint_uniform_color(list(colors[:3]))\n",
        "    rest = rest.select_by_index(inliers, invert=True)\n",
        "    print(\"pass\",i,\"/\",max_plane_idx,\"done.\")\n",
        "\n",
        "#o3d.visualization.draw_geometries([segments[i] for i in range(max_plane_idx)]+[rest])"
      ],
      "execution_count": 13,
      "outputs": [
        {
          "output_type": "stream",
          "text": [
            "pass 0 / 10 done.\n",
            "pass 1 / 10 done.\n",
            "pass 2 / 10 done.\n",
            "pass 3 / 10 done.\n",
            "pass 4 / 10 done.\n",
            "pass 5 / 10 done.\n",
            "pass 6 / 10 done.\n",
            "pass 7 / 10 done.\n",
            "pass 8 / 10 done.\n",
            "pass 9 / 10 done.\n"
          ],
          "name": "stdout"
        }
      ]
    },
    {
      "cell_type": "code",
      "metadata": {
        "colab": {
          "base_uri": "https://localhost:8080/"
        },
        "id": "4VkZ-fBjtK5H",
        "outputId": "229fc5ab-8c02-4849-d683-a7df456c3f94"
      },
      "source": [
        "#Redefined RANSAC with Euclidean Clustering\n",
        "\n",
        "segment_models={}\n",
        "segments={}\n",
        "max_plane_idx=20\n",
        "rest=pcd\n",
        "d_threshold=0.01\n",
        "for i in range(max_plane_idx):\n",
        "    colors = plt.get_cmap(\"tab20\")(i)\n",
        "    segment_models[i], inliers = rest.segment_plane(distance_threshold=0.01,ransac_n=3,num_iterations=1000)\n",
        "    segments[i]=rest.select_by_index(inliers)\n",
        "    labels = np.array(segments[i].cluster_dbscan(eps=d_threshold*10, min_points=10))\n",
        "    candidates=[len(np.where(labels==j)[0]) for j in np.unique(labels)]\n",
        "    best_candidate=int(np.unique(labels)[np.where(candidates==np.max(candidates))[0]])\n",
        "    print(\"the best candidate is: \", best_candidate)\n",
        "    rest = rest.select_by_index(inliers, invert=True)+segments[i].select_by_index(list(np.where(labels!=best_candidate)[0]))\n",
        "    segments[i]=segments[i].select_by_index(list(np.where(labels==best_candidate)[0]))\n",
        "    segments[i].paint_uniform_color(list(colors[:3]))\n",
        "    print(\"pass\",i+1,\"/\",max_plane_idx,\"done.\")"
      ],
      "execution_count": 14,
      "outputs": [
        {
          "output_type": "stream",
          "text": [
            "the best candidate is:  0\n",
            "pass 1 / 20 done.\n",
            "the best candidate is:  0\n",
            "pass 2 / 20 done.\n",
            "the best candidate is:  0\n",
            "pass 3 / 20 done.\n",
            "the best candidate is:  0\n",
            "pass 4 / 20 done.\n",
            "the best candidate is:  0\n",
            "pass 5 / 20 done.\n",
            "the best candidate is:  1\n",
            "pass 6 / 20 done.\n",
            "the best candidate is:  0\n",
            "pass 7 / 20 done.\n",
            "the best candidate is:  0\n",
            "pass 8 / 20 done.\n",
            "the best candidate is:  0\n",
            "pass 9 / 20 done.\n",
            "the best candidate is:  0\n",
            "pass 10 / 20 done.\n",
            "the best candidate is:  0\n",
            "pass 11 / 20 done.\n",
            "the best candidate is:  0\n",
            "pass 12 / 20 done.\n",
            "the best candidate is:  1\n",
            "pass 13 / 20 done.\n",
            "the best candidate is:  0\n",
            "pass 14 / 20 done.\n",
            "the best candidate is:  4\n",
            "pass 15 / 20 done.\n",
            "the best candidate is:  0\n",
            "pass 16 / 20 done.\n",
            "the best candidate is:  1\n",
            "pass 17 / 20 done.\n",
            "the best candidate is:  0\n",
            "pass 18 / 20 done.\n",
            "the best candidate is:  7\n",
            "pass 19 / 20 done.\n",
            "the best candidate is:  0\n",
            "pass 20 / 20 done.\n"
          ],
          "name": "stdout"
        }
      ]
    },
    {
      "cell_type": "code",
      "metadata": {
        "colab": {
          "base_uri": "https://localhost:8080/"
        },
        "id": "824T_8mFtleD",
        "outputId": "c881de20-e84d-4051-b114-096f342617c6"
      },
      "source": [
        "#Euclidean Clustering of the rest with DBSCan\n",
        "labels = np.array(rest.cluster_dbscan(eps=0.05, min_points=5))\n",
        "max_label = labels.max()\n",
        "print(f\"point cloud has {max_label + 1} clusters\")\n",
        "\n",
        "colors = plt.get_cmap(\"tab10\")(labels / (max_label if max_label > 0 else 1))\n",
        "colors[labels < 0] = 0\n",
        "rest.colors = o3d.utility.Vector3dVector(colors[:, :3])\n",
        "\n",
        "# o3d.visualization.draw_geometries([segments.values()])\n",
        "# o3d.visualization.draw_geometries([segments[i] for i in range(max_plane_idx)]+[rest])\n",
        "#o3d.visualization.draw_geometries([segments[i] for i in range(max_plane_idx)]+[rest],zoom=0.3199,front=[0.30159062875123849, 0.94077325609922868, 0.15488309545553303],lookat=[-3.9559999108314514, -0.055000066757202148, -0.27599999308586121],up=[-0.044411423633999815, -0.138726419067636, 0.98753122516983349])\n",
        "# o3d.visualization.draw_geometries([rest])"
      ],
      "execution_count": 16,
      "outputs": [
        {
          "output_type": "stream",
          "text": [
            "point cloud has 90 clusters\n"
          ],
          "name": "stdout"
        }
      ]
    }
  ]
}